{
 "cells": [
  {
   "cell_type": "code",
   "execution_count": 31,
   "metadata": {},
   "outputs": [],
   "source": [
    "import gurobipy as gp\n",
    "from gurobipy import GRB\n",
    "import pandas as pd\n",
    "import numpy as np\n"
   ]
  },
  {
   "cell_type": "code",
   "execution_count": 32,
   "metadata": {},
   "outputs": [
    {
     "data": {
      "text/plain": [
       "'data/33bus_demand_data.csv'"
      ]
     },
     "execution_count": 32,
     "metadata": {},
     "output_type": "execute_result"
    }
   ],
   "source": [
    "bus_data = {\n",
    "    \"Bus Number\": list(range(1, 34)),\n",
    "    \"Type\": [\"Reference\"] + [\"PQ\"] * 16 + [\"PQ/PV\"] + [\"PQ\"] * 3 + [\"PQ/PV\"] + [\"PQ\"] * 2 + [\"PQ/PV\"] + [\"PQ\"] * 7 + [\"PQ/PV\"],\n",
    "    \"Active Demand (MW)\": [0, 0.1, 0.09, 0.12, 0.06, 0.06, 0.2, 0.2, 0.06, 0.06, 0.045, 0.06, 0.06, 0.12, 0.06, 0.06, 0.06,\n",
    "                           0.09, 0.09, 0.09, 0.09, 0.09, 0.09, 0.42, 0.42, 0.06, 0.06, 0.06, 0.12, 0.2, 0.15, 0.21, 0.06],\n",
    "    \"Reactive Demand (MVAr)\": [0, 0.06, 0.04, 0.08, 0.03, 0.02, 0.1, 0.1, 0.02, 0.02, 0.03, 0.035, 0.035, 0.08, 0.01, 0.02, 0.02,\n",
    "                               0.04, 0.04, 0.04, 0.04, 0.05, 0.2, 0.2, 0.025, 0.025, 0.02, 0.07, 0.6, 0.07, 0.1, 0.04, 0.04],\n",
    "    \"Minimum Voltage (p.u.)\": [1.05] * 33,\n",
    "    \"Maximum Voltage (p.u.)\": [0.95] * 33,\n",
    "    \"Number of Phases\": [\"3 (ABC)\", \"2 (AB)\", \"1 (A)\", \"2 (BC)\", \"1 (B)\", \"1 (C)\", \"3 (ABC)\", \"3 (ABC)\", \"1 (A)\", \"1 (B)\", \"1 (C)\",\n",
    "                         \"1 (A)\", \"1 (B)\", \"2 (AC)\", \"1 (C)\", \"1 (A)\", \"1 (B)\", \"1 (C)\", \"1 (A)\", \"1 (B)\", \"1 (C)\", \"1 (A)\", \"1 (B)\",\n",
    "                         \"3 (ABC)\", \"3 (ABC)\", \"1 (C)\", \"1 (A)\", \"1 (B)\", \"2 (AB)\", \"1 (C)\", \"2 (BC)\", \"3 (ABC)\", \"1 (A)\"],\n",
    "    \"Connection Type\": [\"Y\"] * 6 + [\"D\"] + [\"Y\"] * 17 + [\"D\"] + [\"Y\"] * 8,\n",
    "    \"Number of Wires\": [3, 3, 3, 3, 3, 3, 3, 3, 3, 3, 3, 4, 4, 4, 4, 4, 4, 4, 3, 3, 3, 3, 3, 3, 3, 3, 3, 3, 4, 4, 4, 4, 4]\n",
    "}\n",
    "\n",
    "df = pd.DataFrame(bus_data)\n",
    "\n",
    "csv_filename_fixed = \"data/33bus_demand_data.csv\"\n",
    "df.to_csv(csv_filename_fixed, index=False)\n",
    "\n",
    "csv_filename_fixed\n"
   ]
  },
  {
   "cell_type": "code",
   "execution_count": 33,
   "metadata": {},
   "outputs": [
    {
     "data": {
      "text/plain": [
       "'data/33bus_generation_data.csv'"
      ]
     },
     "execution_count": 33,
     "metadata": {},
     "output_type": "execute_result"
    }
   ],
   "source": [
    "data = {\n",
    "    \"Bus Number\": [1, 18, 22, 25, 33],\n",
    "    \"Active Capacity (MW)\": [4, 0.2, 0.2, 0.2, 0.2],\n",
    "    \"Reactive Capacity (MVAr)\": [2.5, 0, 0, 0, 0],\n",
    "    \"Type\": [\"Feeder (Conventional Generation)\", \"DG\", \"DG\", \"DG\", \"DG\"],\n",
    "    \"Cost Function\": [\n",
    "        \"0.003P^2 + 12P + 240\",\n",
    "        \"0.0026P^2 + 10.26P + 210\",\n",
    "        \"0.0026P^2 + 10.26P + 210\",\n",
    "        \"0.0026P^2 + 10.26P + 210\",\n",
    "        \"0.0026P^2 + 10.26P + 210\"\n",
    "    ]\n",
    "}\n",
    "\n",
    "df = pd.DataFrame(data)\n",
    "\n",
    "csv_filename_fixed = \"data/33bus_generation_data.csv\"\n",
    "df.to_csv(csv_filename_fixed, index=False)\n",
    "\n",
    "csv_filename_fixed"
   ]
  },
  {
   "cell_type": "code",
   "execution_count": 34,
   "metadata": {},
   "outputs": [
    {
     "data": {
      "text/plain": [
       "'data/33bus_line_data.csv'"
      ]
     },
     "execution_count": 34,
     "metadata": {},
     "output_type": "execute_result"
    }
   ],
   "source": [
    "import pandas as pd\n",
    "\n",
    "# Creating a dictionary with the given data\n",
    "data = {\n",
    "    \"Branch Number\": list(range(1, 36)),\n",
    "    \"From Bus\": [1, 2, 3, 4, 5, 6, 7, 8, 9, 10, 11, 12, 13, 14, 15, 16, 17, 2, 19, 20, 21, 3, 23, 24, 6, 26, 27, 28, 29, 30, 31, 32, 21, 12, 25],\n",
    "    \"To Bus\": [2, 3, 4, 5, 6, 7, 8, 9, 10, 11, 12, 13, 14, 15, 16, 17, 18, 19, 20, 21, 22, 23, 24, 25, 26, 27, 28, 29, 30, 31, 32, 33, 8, 22, 29],\n",
    "    \"Type\": [\"Fixed\"] * 32 + [\"Switchable\"] * 3,\n",
    "    \"R\": [0.0922, 0.493, 0.366, 0.3811, 0.819, 0.1872, 0.7114, 1.03, 1.044, 0.1966, \n",
    "              0.3744, 1.468, 0.5416, 0.591, 0.7463, 1.289, 0.732, 0.164, 1.5042, 0.4095, \n",
    "              0.7089, 0.4512, 0.898, 0.896, 0.203, 0.2842, 1.059, 0.8042, 0.5075, 0.9744, \n",
    "              0.3105, 0.341, 2, 2, 0.5],\n",
    "    \"X\": [0.047, 0.2511, 0.1864, 0.1941, 0.707, 0.6188, 0.2351, 0.74, 0.74, 0.065, \n",
    "              0.1238, 1.155, 0.7129, 0.526, 0.545, 1.721, 0.574, 0.1565, 1.3354, 0.4784, \n",
    "              0.9373, 0.3083, 0.7091, 0.7011, 0.1034, 0.1447, 0.9337, 0.7006, 0.2585, 0.963, \n",
    "              0.3619, 0.5302, 2, 2, 0.5]\n",
    "}\n",
    "\n",
    "df = pd.DataFrame(data)\n",
    "csv_filename_fixed = \"data/33bus_line_data.csv\"\n",
    "df.to_csv(csv_filename_fixed, index=False)\n",
    "\n",
    "csv_filename_fixed\n"
   ]
  },
  {
   "cell_type": "code",
   "execution_count": 35,
   "metadata": {},
   "outputs": [
    {
     "data": {
      "text/plain": [
       "'data/33bus_compensators_data.csv'"
      ]
     },
     "execution_count": 35,
     "metadata": {},
     "output_type": "execute_result"
    }
   ],
   "source": [
    "data = {\n",
    "    \"Bus Number\": [18, 33],\n",
    "    \"Type\": [\"Capacitive\", \"Capacitive\"],\n",
    "    \"Reactive Capacity (MVAr)\": [0.4, 0.6]\n",
    "}\n",
    "\n",
    "df = pd.DataFrame(data)\n",
    "\n",
    "csv_filename_fixed = \"data/33bus_compensators_data.csv\"\n",
    "df.to_csv(csv_filename_fixed, index=False)\n",
    "\n",
    "csv_filename_fixed"
   ]
  },
  {
   "cell_type": "code",
   "execution_count": 36,
   "metadata": {},
   "outputs": [],
   "source": [
    "\n",
    "bus_data = pd.DataFrame()  # bus data from provided paper\n",
    "branch_data = pd.DataFrame()  # branch data\n",
    "generator_data = pd.DataFrame()  # generator data\n",
    "load_profile = pd.DataFrame()  # hourly load profile\n"
   ]
  },
  {
   "cell_type": "code",
   "execution_count": 39,
   "metadata": {},
   "outputs": [
    {
     "data": {
      "text/html": [
       "<div>\n",
       "<style scoped>\n",
       "    .dataframe tbody tr th:only-of-type {\n",
       "        vertical-align: middle;\n",
       "    }\n",
       "\n",
       "    .dataframe tbody tr th {\n",
       "        vertical-align: top;\n",
       "    }\n",
       "\n",
       "    .dataframe thead th {\n",
       "        text-align: right;\n",
       "    }\n",
       "</style>\n",
       "<table border=\"1\" class=\"dataframe\">\n",
       "  <thead>\n",
       "    <tr style=\"text-align: right;\">\n",
       "      <th></th>\n",
       "      <th>From Bus</th>\n",
       "      <th>To Bus</th>\n",
       "      <th>X</th>\n",
       "    </tr>\n",
       "  </thead>\n",
       "  <tbody>\n",
       "    <tr>\n",
       "      <th>0</th>\n",
       "      <td>1</td>\n",
       "      <td>2</td>\n",
       "      <td>0.0470</td>\n",
       "    </tr>\n",
       "    <tr>\n",
       "      <th>1</th>\n",
       "      <td>2</td>\n",
       "      <td>3</td>\n",
       "      <td>0.2511</td>\n",
       "    </tr>\n",
       "    <tr>\n",
       "      <th>2</th>\n",
       "      <td>3</td>\n",
       "      <td>4</td>\n",
       "      <td>0.1864</td>\n",
       "    </tr>\n",
       "    <tr>\n",
       "      <th>3</th>\n",
       "      <td>4</td>\n",
       "      <td>5</td>\n",
       "      <td>0.1941</td>\n",
       "    </tr>\n",
       "    <tr>\n",
       "      <th>4</th>\n",
       "      <td>5</td>\n",
       "      <td>6</td>\n",
       "      <td>0.7070</td>\n",
       "    </tr>\n",
       "  </tbody>\n",
       "</table>\n",
       "</div>"
      ],
      "text/plain": [
       "   From Bus  To Bus       X\n",
       "0         1       2  0.0470\n",
       "1         2       3  0.2511\n",
       "2         3       4  0.1864\n",
       "3         4       5  0.1941\n",
       "4         5       6  0.7070"
      ]
     },
     "execution_count": 39,
     "metadata": {},
     "output_type": "execute_result"
    }
   ],
   "source": [
    "branch_data = pd.read_csv(\"data/33bus_line_data.csv\")\n",
    "branches = branch_data[[\"From Bus\", \"To Bus\", \"X\"]]\n",
    "branches.head()"
   ]
  },
  {
   "cell_type": "code",
   "execution_count": 40,
   "metadata": {},
   "outputs": [],
   "source": [
    "lines = list(zip(branches[\"From Bus\"], branches[\"To Bus\"]))"
   ]
  },
  {
   "cell_type": "code",
   "execution_count": 41,
   "metadata": {},
   "outputs": [
    {
     "data": {
      "text/html": [
       "<div>\n",
       "<style scoped>\n",
       "    .dataframe tbody tr th:only-of-type {\n",
       "        vertical-align: middle;\n",
       "    }\n",
       "\n",
       "    .dataframe tbody tr th {\n",
       "        vertical-align: top;\n",
       "    }\n",
       "\n",
       "    .dataframe thead th {\n",
       "        text-align: right;\n",
       "    }\n",
       "</style>\n",
       "<table border=\"1\" class=\"dataframe\">\n",
       "  <thead>\n",
       "    <tr style=\"text-align: right;\">\n",
       "      <th></th>\n",
       "      <th>Bus Number</th>\n",
       "      <th>Active Capacity (MW)</th>\n",
       "      <th>Cost Function</th>\n",
       "    </tr>\n",
       "  </thead>\n",
       "  <tbody>\n",
       "    <tr>\n",
       "      <th>0</th>\n",
       "      <td>1</td>\n",
       "      <td>4.0</td>\n",
       "      <td>0.003P^2 + 12P + 240</td>\n",
       "    </tr>\n",
       "    <tr>\n",
       "      <th>1</th>\n",
       "      <td>18</td>\n",
       "      <td>0.2</td>\n",
       "      <td>0.0026P^2 + 10.26P + 210</td>\n",
       "    </tr>\n",
       "    <tr>\n",
       "      <th>2</th>\n",
       "      <td>22</td>\n",
       "      <td>0.2</td>\n",
       "      <td>0.0026P^2 + 10.26P + 210</td>\n",
       "    </tr>\n",
       "    <tr>\n",
       "      <th>3</th>\n",
       "      <td>25</td>\n",
       "      <td>0.2</td>\n",
       "      <td>0.0026P^2 + 10.26P + 210</td>\n",
       "    </tr>\n",
       "    <tr>\n",
       "      <th>4</th>\n",
       "      <td>33</td>\n",
       "      <td>0.2</td>\n",
       "      <td>0.0026P^2 + 10.26P + 210</td>\n",
       "    </tr>\n",
       "  </tbody>\n",
       "</table>\n",
       "</div>"
      ],
      "text/plain": [
       "   Bus Number  Active Capacity (MW)             Cost Function\n",
       "0           1                   4.0      0.003P^2 + 12P + 240\n",
       "1          18                   0.2  0.0026P^2 + 10.26P + 210\n",
       "2          22                   0.2  0.0026P^2 + 10.26P + 210\n",
       "3          25                   0.2  0.0026P^2 + 10.26P + 210\n",
       "4          33                   0.2  0.0026P^2 + 10.26P + 210"
      ]
     },
     "execution_count": 41,
     "metadata": {},
     "output_type": "execute_result"
    }
   ],
   "source": [
    "generation_data = pd.read_csv(\"data/33bus_generation_data.csv\")\n",
    "generation = generation_data[[\"Bus Number\", \"Active Capacity (MW)\", \"Cost Function\"]]\n",
    "generation.head()"
   ]
  },
  {
   "cell_type": "code",
   "execution_count": 42,
   "metadata": {},
   "outputs": [
    {
     "data": {
      "text/html": [
       "<div>\n",
       "<style scoped>\n",
       "    .dataframe tbody tr th:only-of-type {\n",
       "        vertical-align: middle;\n",
       "    }\n",
       "\n",
       "    .dataframe tbody tr th {\n",
       "        vertical-align: top;\n",
       "    }\n",
       "\n",
       "    .dataframe thead th {\n",
       "        text-align: right;\n",
       "    }\n",
       "</style>\n",
       "<table border=\"1\" class=\"dataframe\">\n",
       "  <thead>\n",
       "    <tr style=\"text-align: right;\">\n",
       "      <th></th>\n",
       "      <th>Bus Number</th>\n",
       "      <th>Active Demand (MW)</th>\n",
       "    </tr>\n",
       "  </thead>\n",
       "  <tbody>\n",
       "    <tr>\n",
       "      <th>0</th>\n",
       "      <td>1</td>\n",
       "      <td>0.00</td>\n",
       "    </tr>\n",
       "    <tr>\n",
       "      <th>1</th>\n",
       "      <td>2</td>\n",
       "      <td>0.10</td>\n",
       "    </tr>\n",
       "    <tr>\n",
       "      <th>2</th>\n",
       "      <td>3</td>\n",
       "      <td>0.09</td>\n",
       "    </tr>\n",
       "    <tr>\n",
       "      <th>3</th>\n",
       "      <td>4</td>\n",
       "      <td>0.12</td>\n",
       "    </tr>\n",
       "    <tr>\n",
       "      <th>4</th>\n",
       "      <td>5</td>\n",
       "      <td>0.06</td>\n",
       "    </tr>\n",
       "  </tbody>\n",
       "</table>\n",
       "</div>"
      ],
      "text/plain": [
       "   Bus Number  Active Demand (MW)\n",
       "0           1                0.00\n",
       "1           2                0.10\n",
       "2           3                0.09\n",
       "3           4                0.12\n",
       "4           5                0.06"
      ]
     },
     "execution_count": 42,
     "metadata": {},
     "output_type": "execute_result"
    }
   ],
   "source": [
    "bus_data = pd.read_csv(\"data/33bus_demand_data.csv\")\n",
    "demand = bus_data[[\"Bus Number\", \"Active Demand (MW)\"]]\n",
    "demand.head()"
   ]
  },
  {
   "cell_type": "code",
   "execution_count": 43,
   "metadata": {},
   "outputs": [
    {
     "data": {
      "text/plain": [
       "np.float64(3.7150000000000003)"
      ]
     },
     "execution_count": 43,
     "metadata": {},
     "output_type": "execute_result"
    }
   ],
   "source": [
    "total_demand = demand[\"Active Demand (MW)\"].sum()\n",
    "total_demand"
   ]
  },
  {
   "cell_type": "code",
   "execution_count": 44,
   "metadata": {},
   "outputs": [
    {
     "data": {
      "text/plain": [
       "array([ 1,  2,  3,  4,  5,  6,  7,  8,  9, 10, 11, 12, 13, 14, 15, 16, 17,\n",
       "       18, 19, 20, 21, 22, 23, 24, 25, 26, 27, 28, 29, 30, 31, 32, 33])"
      ]
     },
     "execution_count": 44,
     "metadata": {},
     "output_type": "execute_result"
    }
   ],
   "source": [
    "buses = demand[\"Bus Number\"].values\n",
    "buses"
   ]
  },
  {
   "cell_type": "code",
   "execution_count": 49,
   "metadata": {},
   "outputs": [],
   "source": [
    "import gurobipy as gp\n",
    "from gurobipy import GRB\n",
    "\n",
    "# Sets\n",
    "T = range(2)  # 24-hour time horizon\n",
    "N = range(3)   # Number of microgrids\n",
    "M = range(33)  # Number of buses\n",
    "L = range(32)  # Number of branches\n",
    "\n",
    "# Parameters\n",
    "rho_GRID = 0.65  # Grid price\n",
    "beta_U, beta_L = 100, 0.5\n",
    "U_min, U_max = 0.95, 1.05\n",
    "P_max_l = 5000  # Max line power flow\n",
    "lambda_sell_max = 0.8  # Max sell price\n",
    "\n",
    "# Optimization Model\n",
    "model = gp.Model(\"IEEE_33_DSO_Optimization\")\n",
    "\n",
    "# Decision Variables\n",
    "lambda_buy = model.addVars(T, lb=0, vtype=GRB.CONTINUOUS, name=\"lambda_buy\")\n",
    "lambda_sell = model.addVars(T, lb=0, ub=lambda_sell_max, vtype=GRB.CONTINUOUS, name=\"lambda_sell\")\n",
    "\n",
    "P_MGn_buy_values = {(n, t): 100 for n in N for t in T}\n",
    "P_MGn_sell_values = {(n, t): 50 for n in N for t in T} \n",
    "\n",
    "P_SESOn_buy_values = {(n, t): 100 for n in N for t in T}\n",
    "P_SESOn_sell_values = {(n, t): 50 for n in N for t in T} \n"
   ]
  },
  {
   "cell_type": "code",
   "execution_count": 6,
   "metadata": {},
   "outputs": [
    {
     "name": "stdout",
     "output_type": "stream",
     "text": [
      "Full Stackelberg model constructed. Ready to solve.\n"
     ]
    }
   ],
   "source": [
    "import gurobipy as gp\n",
    "from gurobipy import GRB\n",
    "\n",
    "# Constants and parameters (Example values provided, replace with actual data)\n",
    "T = 24  # time horizon\n",
    "J = 3   # number of VPPs\n",
    "M = 30  # big-M constant\n",
    "\n",
    "dt = 1.0\n",
    "\n",
    "lambda_CEP = [80]*T\n",
    "lambda_CES = [40]*T\n",
    "P_VPP_p_max = [10]*J\n",
    "P_VPP_s_max = [10]*J\n",
    "PD = [[4]*T for _ in range(J)]\n",
    "a = [0.08, 0.1, 0.15]\n",
    "b = [0.90, 0.6, 0.5]\n",
    "c = [1.2, 1.0, 0.8]\n",
    "e = [0.05]*J\n",
    "PMT_max = [6, 5, 4]\n",
    "PMT_down = [-3.5, -3, -2]\n",
    "PMT_up = [3.5, 3, 2]\n",
    "PBS_max = [0.6, 0.6, 1.2]\n",
    "PWT_max = [[5]*T for _ in range(J)]\n",
    "Emax = [1, 1, 2]\n",
    "SoC_min = [20]*J\n",
    "SoC_max = [90]*J\n",
    "SoC0 = [40]*J\n",
    "\n",
    "# Create model\n",
    "model = gp.Model(\"Stackelberg_DSO_VPP\")\n",
    "\n",
    "# Variables\n",
    "lambda_EP = model.addVars(T, lb=0, name=\"lambda_EP\")\n",
    "lambda_ES = model.addVars(T, lb=0, name=\"lambda_ES\")\n",
    "\n",
    "P_DSO_p = model.addVars(T, lb=0, name=\"P_DSO_p\")\n",
    "P_DSO_s = model.addVars(T, lb=0, name=\"P_DSO_s\")\n",
    "P_DSO = model.addVars(T, lb=-GRB.INFINITY, name=\"P_DSO\")\n",
    "z1 = model.addVars(T, vtype=GRB.BINARY, name=\"z1\")\n",
    "z2 = model.addVars(T, vtype=GRB.BINARY, name=\"z2\")\n",
    "\n",
    "# VPP variables\n",
    "P_VPP_p = model.addVars(J, T, lb=0, name=\"P_VPP_p\")\n",
    "P_VPP_s = model.addVars(J, T, lb=0, name=\"P_VPP_s\")\n",
    "PMT = model.addVars(J, T, lb=0, name=\"PMT\")\n",
    "PBS = model.addVars(J, T, lb=-GRB.INFINITY, name=\"PBS\")\n",
    "PWT = model.addVars(J, T, lb=0, name=\"PWT\")\n",
    "SoC = model.addVars(J, T+1, lb=0, name=\"SoC\")\n",
    "\n",
    "# Initialize SoC\n",
    "for j in range(J):\n",
    "    model.addConstr(SoC[j, 0] == SoC0[j])\n",
    "    model.addConstr(SoC[j, T] == SoC0[j])\n",
    "\n",
    "# Price constraints (3)\n",
    "for t in range(T):\n",
    "    model.addConstr(lambda_CES[t] <= lambda_ES[t])\n",
    "    model.addConstr(lambda_ES[t] <= lambda_CEP[t])\n",
    "    model.addConstr(lambda_CES[t] <= lambda_EP[t])\n",
    "    model.addConstr(lambda_EP[t] <= lambda_CEP[t])\n",
    "\n",
    "# Power trading constraints (4)-(11)\n",
    "for t in range(T):\n",
    "    model.addConstr(P_DSO[t] == gp.quicksum(P_VPP_p[j, t] - P_VPP_s[j, t] for j in range(J)))\n",
    "\n",
    "    model.addConstr(-M*(1 - z1[t]) <= P_DSO[t])\n",
    "    model.addConstr(P_DSO[t] <= M*z1[t])\n",
    "    model.addConstr(-M*(1 - z1[t]) <= P_DSO_p[t] - P_DSO[t])\n",
    "    model.addConstr(P_DSO_p[t] - P_DSO[t] <= M*(1 - z1[t]))\n",
    "    model.addConstr(-M*z1[t] <= P_DSO_p[t])\n",
    "    model.addConstr(P_DSO_p[t] <= M*z1[t])\n",
    "\n",
    "    model.addConstr(-M*(1 - z2[t]) <= P_DSO[t])\n",
    "    model.addConstr(P_DSO[t] <= M*z2[t])\n",
    "    model.addConstr(-M*(1 - z2[t]) <= P_DSO_s[t])\n",
    "    model.addConstr(P_DSO_s[t] <= M*(1 - z2[t]))\n",
    "    model.addConstr(-M*z2[t] <= P_DSO_s[t] + P_DSO[t])\n",
    "    model.addConstr(P_DSO_s[t] + P_DSO[t] <= M*z2[t])\n",
    "\n",
    "    model.addConstr(z1[t] == z2[t])\n",
    "\n",
    "# VPP constraints (16)-(21)\n",
    "for j in range(J):\n",
    "    for t in range(T):\n",
    "        model.addConstr(P_VPP_p[j, t] <= P_VPP_p_max[j])\n",
    "        model.addConstr(P_VPP_s[j, t] <= P_VPP_s_max[j])\n",
    "\n",
    "        # Internal balance\n",
    "        model.addConstr((P_VPP_p[j, t] - P_VPP_s[j, t]) + (PMT[j, t] + PBS[j, t] + PWT[j, t]) * dt == PD[j][t] * dt)\n",
    "\n",
    "        # MT output constraints\n",
    "        model.addConstr(PMT[j, t] <= PMT_max[j])\n",
    "        if t < T-1:\n",
    "            model.addConstr(PMT_down[j]*dt <= PMT[j, t+1] - PMT[j, t])\n",
    "            model.addConstr(PMT[j, t+1] - PMT[j, t] <= PMT_up[j]*dt)\n",
    "\n",
    "        # BS constraints\n",
    "        model.addConstr(PBS[j, t] <= PBS_max[j])\n",
    "        model.addConstr(PBS[j, t] >= -PBS_max[j])\n",
    "        model.addConstr(SoC[j, t+1] == SoC[j, t] - dt / Emax[j] * PBS[j, t])\n",
    "        model.addConstr(SoC[j, t+1] >= SoC_min[j])\n",
    "        model.addConstr(SoC[j, t+1] <= SoC_max[j])\n",
    "\n",
    "        # WT output constraints\n",
    "        model.addConstr(PWT[j, t] <= PWT_max[j][t])\n",
    "\n",
    "# Objective function (maximize profit of DSO)\n",
    "dso_profit = gp.quicksum(\n",
    "    lambda_CES[t] * P_DSO_s[t] - lambda_CEP[t] * P_DSO_p[t] +\n",
    "    lambda_EP[t] * gp.quicksum(P_VPP_p[j, t] for j in range(J)) -\n",
    "    lambda_ES[t] * gp.quicksum(P_VPP_s[j, t] for j in range(J))\n",
    "    for t in range(T)\n",
    ")\n",
    "model.setObjective(dso_profit, GRB.MAXIMIZE)\n",
    "\n",
    "model.update()\n",
    "# model.optimize()\n",
    "\n",
    "print(\"Full Stackelberg model constructed. Ready to solve.\")\n"
   ]
  },
  {
   "cell_type": "code",
   "execution_count": 7,
   "metadata": {},
   "outputs": [
    {
     "name": "stdout",
     "output_type": "stream",
     "text": [
      "Gurobi Optimizer version 12.0.0 build v12.0.0rc1 (win64 - Windows 10.0 (19045.2))\n",
      "\n",
      "CPU model: 13th Gen Intel(R) Core(TM) i9-13900H, instruction set [SSE2|AVX|AVX2]\n",
      "Thread count: 14 physical cores, 20 logical processors, using up to 20 threads\n",
      "\n",
      "Optimize a model with 1296 rows, 603 columns and 2418 nonzeros\n",
      "Model fingerprint: 0xbda87af7\n",
      "Model has 144 quadratic objective terms\n",
      "Variable types: 555 continuous, 48 integer (48 binary)\n",
      "Coefficient statistics:\n",
      "  Matrix range     [5e-01, 3e+01]\n",
      "  Objective range  [4e+01, 8e+01]\n",
      "  QObjective range [2e+00, 2e+00]\n",
      "  Bounds range     [1e+00, 1e+00]\n",
      "  RHS range        [6e-01, 9e+01]\n",
      "Presolve removed 915 rows and 147 columns\n",
      "Presolve time: 0.00s\n",
      "Presolved: 381 rows, 456 columns, 1212 nonzeros\n",
      "Variable types: 432 continuous, 24 integer (24 binary)\n",
      "Found heuristic solution: objective 28800.000000\n",
      "\n",
      "Root relaxation: objective 4.320000e+04, 187 iterations, 0.00 seconds (0.00 work units)\n",
      "\n",
      "    Nodes    |    Current Node    |     Objective Bounds      |     Work\n",
      " Expl Unexpl |  Obj  Depth IntInf | Incumbent    BestBd   Gap | It/Node Time\n",
      "\n",
      "     0     0 43200.0000    0   24 28800.0000 43200.0000  50.0%     -    0s\n",
      "     0     0     cutoff    0      28800.0000 28800.0000  0.00%     -    0s\n",
      "\n",
      "Cutting planes:\n",
      "  Flow cover: 48\n",
      "  RLT: 24\n",
      "\n",
      "Explored 1 nodes (221 simplex iterations) in 0.02 seconds (0.01 work units)\n",
      "Thread count was 20 (of 20 available processors)\n",
      "\n",
      "Solution count 1: 28800 \n",
      "\n",
      "Optimal solution found (tolerance 1.00e-04)\n",
      "Best objective 2.880000000000e+04, best bound 2.880000000000e+04, gap 0.0000%\n"
     ]
    }
   ],
   "source": [
    "model.optimize()"
   ]
  },
  {
   "cell_type": "code",
   "execution_count": 15,
   "metadata": {},
   "outputs": [
    {
     "name": "stdout",
     "output_type": "stream",
     "text": [
      "Gurobi Optimizer version 12.0.0 build v12.0.0rc1 (win64 - Windows 10.0 (19045.2))\n",
      "\n",
      "CPU model: 13th Gen Intel(R) Core(TM) i9-13900H, instruction set [SSE2|AVX|AVX2]\n",
      "Thread count: 14 physical cores, 20 logical processors, using up to 20 threads\n",
      "\n",
      "Optimize a model with 1200 rows, 579 columns and 2250 nonzeros\n",
      "Model fingerprint: 0x1b7adca1\n",
      "Model has 144 quadratic objective terms\n",
      "Variable types: 555 continuous, 24 integer (24 binary)\n",
      "Coefficient statistics:\n",
      "  Matrix range     [5e-01, 3e+01]\n",
      "  Objective range  [0e+00, 0e+00]\n",
      "  QObjective range [2e+00, 2e+00]\n",
      "  Bounds range     [1e+00, 1e+02]\n",
      "  RHS range        [9e-02, 9e+01]\n",
      "Presolve removed 972 rows and 229 columns\n",
      "Presolve time: 0.00s\n",
      "Presolved: 228 rows, 350 columns, 823 nonzeros\n",
      "Variable types: 350 continuous, 0 integer (0 binary)\n",
      "\n",
      "Root relaxation: objective 5.371722e+04, 102 iterations, 0.00 seconds (0.00 work units)\n",
      "\n",
      "    Nodes    |    Current Node    |     Objective Bounds      |     Work\n",
      " Expl Unexpl |  Obj  Depth IntInf | Incumbent    BestBd   Gap | It/Node Time\n",
      "\n",
      "*    0     0               0    53717.219031 53717.2190  0.00%     -    0s\n",
      "\n",
      "Explored 1 nodes (102 simplex iterations) in 0.02 seconds (0.00 work units)\n",
      "Thread count was 20 (of 20 available processors)\n",
      "\n",
      "Solution count 1: 53717.2 \n",
      "\n",
      "Optimal solution found (tolerance 1.00e-04)\n",
      "Best objective 5.371721903117e+04, best bound 5.371721903117e+04, gap 0.0000%\n",
      "Hour 0: lambda_EP = 100.00, lambda_ES = 50.00, PDSO = 18.54\n",
      "Hour 1: lambda_EP = 100.00, lambda_ES = 50.00, PDSO = 19.25\n",
      "Hour 2: lambda_EP = 100.00, lambda_ES = 50.00, PDSO = 6.96\n",
      "Hour 3: lambda_EP = 100.00, lambda_ES = 50.00, PDSO = 8.63\n",
      "Hour 4: lambda_EP = 100.00, lambda_ES = 50.00, PDSO = 17.61\n",
      "Hour 5: lambda_EP = 100.00, lambda_ES = 50.00, PDSO = 13.48\n",
      "Hour 6: lambda_EP = 100.00, lambda_ES = 50.00, PDSO = 10.54\n",
      "Hour 7: lambda_EP = 100.00, lambda_ES = 50.00, PDSO = 19.35\n",
      "Hour 8: lambda_EP = 100.00, lambda_ES = 50.00, PDSO = 16.34\n",
      "Hour 9: lambda_EP = 100.00, lambda_ES = 50.00, PDSO = 10.59\n",
      "Hour 10: lambda_EP = 100.00, lambda_ES = 50.00, PDSO = 12.01\n",
      "Hour 11: lambda_EP = 100.00, lambda_ES = 50.00, PDSO = 13.54\n",
      "Hour 12: lambda_EP = 100.00, lambda_ES = 50.00, PDSO = 15.48\n",
      "Hour 13: lambda_EP = 100.00, lambda_ES = 50.00, PDSO = 14.27\n",
      "Hour 14: lambda_EP = 100.00, lambda_ES = 50.00, PDSO = 14.10\n",
      "Hour 15: lambda_EP = 100.00, lambda_ES = 50.00, PDSO = 10.52\n",
      "Hour 16: lambda_EP = 100.00, lambda_ES = 50.00, PDSO = 20.19\n",
      "Hour 17: lambda_EP = 100.00, lambda_ES = 50.00, PDSO = 20.28\n",
      "Hour 18: lambda_EP = 100.00, lambda_ES = 50.00, PDSO = 20.65\n",
      "Hour 19: lambda_EP = 100.00, lambda_ES = 50.00, PDSO = 15.01\n",
      "Hour 20: lambda_EP = 100.00, lambda_ES = 50.00, PDSO = 11.34\n",
      "Hour 21: lambda_EP = 100.00, lambda_ES = 50.00, PDSO = 17.15\n",
      "Hour 22: lambda_EP = 100.00, lambda_ES = 50.00, PDSO = 14.67\n",
      "Hour 23: lambda_EP = 100.00, lambda_ES = 50.00, PDSO = 13.85\n"
     ]
    }
   ],
   "source": [
    "# DSO–VPP Stackelberg Game MPCC using Gurobi in Python\n",
    "\n",
    "from gurobipy import *\n",
    "import numpy as np\n",
    "\n",
    "# === Sets ===\n",
    "T = 24   # Time periods\n",
    "J = 3    # VPPs\n",
    "I = {0: [5], 1: [2], 2: [1]}  # DERs per VPP (simplified)\n",
    "\n",
    "# === Parameters (Example values for VPP1, VPP2, VPP3) ===\n",
    "a = [0.08, 0.1, 0.15]\n",
    "b = [0.9, 0.6, 0.5]\n",
    "c = [1.2, 1.0, 0.8]\n",
    "e = [0.05, 0.05, 0.05]\n",
    "PMT_max = [6.0, 5.0, 4.0]\n",
    "PMT_up = [3.5, 3.0, 2.0]\n",
    "PMT_down = [3.5, 3.0, 2.0]\n",
    "PBS_max = [0.6, 0.6, 1.2]\n",
    "Emax = [1, 1, 2]\n",
    "SoC_min = [20, 20, 20]\n",
    "SoC_max = [90, 90, 90]\n",
    "SoC0 = [40, 40, 40]\n",
    "PVPP_p_max = [10, 10, 10]\n",
    "PVPP_s_max = [10, 10, 10]\n",
    "PWT_max = np.random.rand(3, T) * 10\n",
    "PD = np.random.rand(3, T) * 10\n",
    "lambda_CEP = np.full(T, 100)\n",
    "lambda_CES = np.full(T, 50)\n",
    "Delta_t = 1\n",
    "M = 30\n",
    "\n",
    "# === Model ===\n",
    "model = Model(\"DSO_VPP_MPCC\")\n",
    "\n",
    "# === Variables ===\n",
    "lambda_EP = model.addVars(T, lb=lambda_CES[0], ub=lambda_CEP[0], name=\"lambda_EP\")\n",
    "lambda_ES = model.addVars(T, lb=lambda_CES[0], ub=lambda_CEP[0], name=\"lambda_ES\")\n",
    "\n",
    "PVPP_p = model.addVars(J, T, lb=0, name=\"PVPP_p\")\n",
    "PVPP_s = model.addVars(J, T, lb=0, name=\"PVPP_s\")\n",
    "PMT = model.addVars(J, T, lb=0, name=\"PMT\")\n",
    "PBS = model.addVars(J, T, lb=-GRB.INFINITY, name=\"PBS\")\n",
    "PWT = model.addVars(J, T, lb=0, name=\"PWT\")\n",
    "SoC = model.addVars(J, T+1, name=\"SoC\")\n",
    "\n",
    "PDSO = model.addVars(T, name=\"PDSO\")\n",
    "PDSO_p = model.addVars(T, lb=0, name=\"PDSO_p\")\n",
    "PDSO_s = model.addVars(T, lb=0, name=\"PDSO_s\")\n",
    "z = model.addVars(T, vtype=GRB.BINARY, name=\"z\")\n",
    "\n",
    "# === Initial SoC ===\n",
    "for j in range(J):\n",
    "    model.addConstr(SoC[j, 0] == SoC0[j])\n",
    "    model.addConstr(SoC[j, T] == SoC0[j])\n",
    "\n",
    "# === Constraints ===\n",
    "for t in range(T):\n",
    "    model.addConstr(PDSO[t] == quicksum(PVPP_p[j, t] - PVPP_s[j, t] for j in range(J)))\n",
    "    model.addConstr(-M * (1 - z[t]) <= PDSO[t])\n",
    "    model.addConstr(PDSO[t] <= M * z[t])\n",
    "    model.addConstr(-M * (1 - z[t]) <= PDSO_p[t] - PDSO[t])\n",
    "    model.addConstr(PDSO_p[t] - PDSO[t] <= M * (1 - z[t]))\n",
    "    model.addConstr(-M * z[t] <= PDSO_p[t])\n",
    "    model.addConstr(PDSO_p[t] <= M * z[t])\n",
    "    model.addConstr(-M * z[t] <= PDSO_s[t] + PDSO[t])\n",
    "    model.addConstr(PDSO_s[t] + PDSO[t] <= M * z[t])\n",
    "    model.addConstr(-M * (1 - z[t]) <= PDSO_s[t])\n",
    "    model.addConstr(PDSO_s[t] <= M * (1 - z[t]))\n",
    "\n",
    "    for j in range(J):\n",
    "        model.addConstr(PVPP_p[j, t] <= PVPP_p_max[j])\n",
    "        model.addConstr(PVPP_s[j, t] <= PVPP_s_max[j])\n",
    "        model.addConstr(PMT[j, t] <= PMT_max[j])\n",
    "        model.addConstr(PWT[j, t] <= PWT_max[j, t])\n",
    "        model.addConstr(PWT[j, t] >= 0)\n",
    "        model.addConstr(PBS[j, t] <= PBS_max[j])\n",
    "        model.addConstr(PBS[j, t] >= -PBS_max[j])\n",
    "        model.addConstr(SoC[j, t+1] == SoC[j, t] - Delta_t / Emax[j] * PBS[j, t])\n",
    "        model.addConstr(SoC[j, t+1] >= SoC_min[j])\n",
    "        model.addConstr(SoC[j, t+1] <= SoC_max[j])\n",
    "        model.addConstr(PVPP_p[j, t] - PVPP_s[j, t] + \n",
    "                        Delta_t * (PMT[j, t] + PBS[j, t] + PWT[j, t]) == \n",
    "                        Delta_t * PD[j, t])\n",
    "        if t < T - 1:\n",
    "            model.addConstr(PMT[j, t+1] - PMT[j, t] <= PMT_up[j] * Delta_t)\n",
    "            model.addConstr(PMT[j, t+1] - PMT[j, t] >= -PMT_down[j] * Delta_t)\n",
    "\n",
    "# === Objective Function ===\n",
    "revenue = quicksum(lambda_EP[t] * quicksum(PVPP_p[j, t] for j in range(J)) -\n",
    "                   lambda_ES[t] * quicksum(PVPP_s[j, t] for j in range(J)) for t in range(T))\n",
    "model.setObjective(revenue, GRB.MAXIMIZE)\n",
    "\n",
    "# === Optimize ===\n",
    "model.optimize()\n",
    "\n",
    "# === Output results ===\n",
    "for t in range(T):\n",
    "    print(f\"Hour {t}: lambda_EP = {lambda_EP[t].X:.2f}, lambda_ES = {lambda_ES[t].X:.2f}, PDSO = {PDSO[t].X:.2f}\")"
   ]
  },
  {
   "cell_type": "code",
   "execution_count": 16,
   "metadata": {},
   "outputs": [],
   "source": [
    "PDSO_p_values = {(t): PDSO_p[t].X for t in range(T)} \n",
    "PDSO_s_values = {(t): PDSO_s[t].X for t in range(T)}"
   ]
  },
  {
   "cell_type": "code",
   "execution_count": 17,
   "metadata": {},
   "outputs": [
    {
     "data": {
      "image/png": "[encoded data removed]",
      "text/plain": [
       "<Figure size 1000x500 with 1 Axes>"
      ]
     },
     "metadata": {},
     "output_type": "display_data"
    }
   ],
   "source": [
    "import matplotlib.pyplot as plt\n",
    "plt.figure(figsize=(10, 5))\n",
    "plt.plot(range(1, T+1), PDSO_p_values.values(), marker='o', linestyle='-')\n",
    "plt.plot(range(1, T+1), PDSO_s_values.values(), marker='o', linestyle='-', color='red')\n",
    "plt.title('DSO Net Power Trade (PDSO) Over 24 Hours')\n",
    "plt.xlabel('Hour')\n",
    "plt.ylabel('PDSO (MWh)')\n",
    "plt.grid(True)\n",
    "plt.xticks(range(1, T+1))\n",
    "plt.tight_layout()\n",
    "plt.show()"
   ]
  },
  {
   "cell_type": "code",
   "execution_count": null,
   "metadata": {},
   "outputs": [],
   "source": []
  }
 ],
 "metadata": {
  "kernelspec": {
   "display_name": "base",
   "language": "python",
   "name": "python3"
  },
  "language_info": {
   "codemirror_mode": {
    "name": "ipython",
    "version": 3
   },
   "file_extension": ".py",
   "mimetype": "text/x-python",
   "name": "python",
   "nbconvert_exporter": "python",
   "pygments_lexer": "ipython3",
   "version": "3.12.4"
  }
 },
 "nbformat": 4,
 "nbformat_minor": 2
}
